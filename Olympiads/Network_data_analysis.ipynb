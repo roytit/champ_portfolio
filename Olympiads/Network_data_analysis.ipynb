{
 "cells": [
  {
   "cell_type": "code",
   "execution_count": 1,
   "id": "d4e0aadd-d8cd-45e8-8220-7dfcdb283206",
   "metadata": {},
   "outputs": [],
   "source": [
    "class Point:\n",
    "    def __init__(self, name, difficulty,importance, dependencies):\n",
    "        self.name = name\n",
    "        self.difficulty = difficulty\n",
    "        self.importance = importance\n",
    "        self.dependencies = dependencies\n",
    "\n",
    "class Route:\n",
    "    def __init__(self, path, importance, difficulty):\n",
    "        self.path = path\n",
    "        self.importance = importance\n",
    "        self.difficulty = difficulty\n",
    "\n",
    "    def __lt__(self, other):\n",
    "        return self.get_priority() < other.get_priority()\n",
    "\n",
    "    def get_priority(self):\n",
    "        return -self.importance * 100 + self.difficulty\n",
    "\n",
    "import heapq\n",
    "\n",
    "def find_optimal_way(points):\n",
    "    queue = []\n",
    "    heapq.heappush(queue, Route(['Жадные алгоритмы'], 1, 1))\n",
    "\n",
    "    best_path = []\n",
    "    max_importance = float('-inf')\n",
    "    min_difficulty = float('inf')\n",
    "\n",
    "    while queue:\n",
    "        current_route = heapq.heappop(queue)\n",
    "        current_path = current_route.path\n",
    "        current_importance = current_route.importance\n",
    "        current_difficulty = current_route.difficulty\n",
    "\n",
    "        if current_importance > max_importance or (current_importance == max_importance and current_difficulty < min_difficulty):\n",
    "            best_path = current_path[:]\n",
    "            max_importance = current_importance\n",
    "            min_difficulty = current_difficulty\n",
    "\n",
    "        for next_point_name in points.keys():\n",
    "            if next_point_name in current_path:\n",
    "                continue\n",
    "\n",
    "            next_point = points[next_point_name]\n",
    "            dependencies_met = all(difficult in current_path for difficult in next_point.dependencies)\n",
    "\n",
    "            if dependencies_met:\n",
    "                new_path = current_path + [next_point_name]\n",
    "                new_importance = current_importance + next_point.importance\n",
    "                new_difficulty = current_difficulty + next_point.difficulty\n",
    "                heapq.heappush(queue, Route(new_path, new_importance, new_difficulty))\n",
    "\n",
    "    return best_path"
   ]
  },
  {
   "cell_type": "code",
   "execution_count": 2,
   "id": "99f25fbc-bed9-4fd0-b739-e9bca6bbd45e",
   "metadata": {},
   "outputs": [
    {
     "data": {
      "text/plain": [
       "['Жадные алгоритмы',\n",
       " 'Динамическое программирование',\n",
       " 'Префиксные суммы',\n",
       " 'Ленивые алгоритмы',\n",
       " 'Дерево отрезков',\n",
       " 'Число фибоначчи',\n",
       " 'Число фибоначчи формула Бине',\n",
       " 'Число фибоначчи матрицы']"
      ]
     },
     "execution_count": 2,
     "metadata": {},
     "output_type": "execute_result"
    }
   ],
   "source": [
    "points = {\n",
    "    \"Жадные алгоритмы\": Point(\"Жадные алгоритмы\", 1, 4, []),\n",
    "    \"Динамическое программирование\": Point(\"Динамическое программирование\", 3, 4, ['Жадные алгоритмы']),\n",
    "    \"Ленивые алгоритмы\": Point(\"Ленивые алгоритмы\", 1, 3, [\"Жадные алгоритмы\"]),\n",
    "    \"Число фибоначчи\": Point(\"Число фибоначчи\", 1, 3, ['Динамическое программирование']),\n",
    "    \"Число фибоначчи матрицы\": Point(\"Число фибоначчи матрицы\", 5, 1, ['Число фибоначчи', 'Ленивые алгоритмы']),\n",
    "    \"Число фибоначчи формула Бине\": Point(\"Число фибоначчи формула Бине\", 2,4, [\"Число фибоначчи\"]),\n",
    "    \"Префиксные суммы\": Point(\"Префиксные суммы\", 3, 5, ['Динамическое программирование']),\n",
    "    \"Дерево отрезков\": Point(\"Дерево отрезков\", 5, 7, [\"Префиксные суммы\", \"Ленивые алгоритмы\"]),\n",
    "}\n",
    "\n",
    "path = find_optimal_way(points)\n",
    "path"
   ]
  },
  {
   "cell_type": "code",
   "execution_count": null,
   "id": "c66b5f0e-9b72-4310-b9e2-7d7a54bd92ff",
   "metadata": {},
   "outputs": [],
   "source": []
  }
 ],
 "metadata": {
  "kernelspec": {
   "display_name": "Python 3 (ipykernel)",
   "language": "python",
   "name": "python3"
  },
  "language_info": {
   "codemirror_mode": {
    "name": "ipython",
    "version": 3
   },
   "file_extension": ".py",
   "mimetype": "text/x-python",
   "name": "python",
   "nbconvert_exporter": "python",
   "pygments_lexer": "ipython3",
   "version": "3.12.4"
  }
 },
 "nbformat": 4,
 "nbformat_minor": 5
}
